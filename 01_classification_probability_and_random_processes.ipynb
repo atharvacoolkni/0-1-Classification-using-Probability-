{
  "nbformat": 4,
  "nbformat_minor": 0,
  "metadata": {
    "colab": {
      "provenance": [],
      "gpuType": "T4"
    },
    "kernelspec": {
      "name": "python3",
      "display_name": "Python 3"
    },
    "language_info": {
      "name": "python"
    },
    "accelerator": "GPU"
  },
  "cells": [
    {
      "cell_type": "markdown",
      "source": [
        "**note** = in last cell group give folder of images to test and get accuracy and predicted result\n",
        "\n",
        "for test you can put images in test folder and give path to last cell."
      ],
      "metadata": {
        "id": "aAQl90A-MVmt"
      }
    },
    {
      "cell_type": "code",
      "source": [
        "from google.colab import drive\n",
        "drive.mount('/content/drive')"
      ],
      "metadata": {
        "colab": {
          "base_uri": "https://localhost:8080/"
        },
        "id": "rL6JL7n8XGLi",
        "outputId": "d3e4e68a-97a1-4bfe-ee80-900da5e19689"
      },
      "execution_count": 2,
      "outputs": [
        {
          "output_type": "stream",
          "name": "stdout",
          "text": [
            "Mounted at /content/drive\n"
          ]
        }
      ]
    },
    {
      "cell_type": "code",
      "source": [
        "#here path1 is train dataset and path2 is test dataset\n",
        "path1 = '/content/drive/MyDrive/dataset 0s and 1s/train'\n",
        "path2= '/content/drive/MyDrive/dataset 0s and 1s/test'"
      ],
      "metadata": {
        "id": "56QjDg_06tDG"
      },
      "execution_count": 27,
      "outputs": []
    },
    {
      "cell_type": "code",
      "source": [
        "import os\n",
        "import cv2"
      ],
      "metadata": {
        "id": "UVqS3wrE40iv"
      },
      "execution_count": 28,
      "outputs": []
    },
    {
      "cell_type": "markdown",
      "source": [
        "#function to rename image name in format of digit_0(index).png , digit_1(index).png\n",
        "\n",
        "for test images in my code need to have specific format as shown to use.because i am taking true labels from name of file."
      ],
      "metadata": {
        "id": "qbseTkt443iY"
      }
    },
    {
      "cell_type": "code",
      "source": [
        "def rename_images(folder_path):\n",
        "\n",
        "  for index, filename in enumerate(os.listdir(folder_path)):\n",
        "    if filename.endswith(('.jpg', '.jpeg', '.png')):\n",
        "      old_path = os.path.join(folder_path, filename)\n",
        "      new_filename = f\"digit_1({index}).png\"\n",
        "      new_path = os.path.join(folder_path, new_filename)\n",
        "      os.rename(old_path, new_path)"
      ],
      "metadata": {
        "id": "osN84kI-4DT_"
      },
      "execution_count": 29,
      "outputs": []
    },
    {
      "cell_type": "markdown",
      "source": [
        "# Convert an image to binary code based on a threshold\n",
        "\n",
        " here converting image to (3,3)size and converting it in binary code for that i chose threshould value = 250  after experperimenting with values.\n",
        "\n",
        " if pixals intensity > threshould then code = 0.\n",
        "\n",
        " if pixals intensity < threshould then code = 1."
      ],
      "metadata": {
        "id": "5I3UDxmWKt2w"
      }
    },
    {
      "cell_type": "code",
      "source": [
        "def get_binary_code(img, threshold=250):\n",
        "\n",
        "    img_resized = cv2.resize(img, (3, 3))\n",
        "    binary_values = [1 if pixel < threshold else 0 for pixel in img_resized.flatten()]\n",
        "    return ''.join(map(str, binary_values))\n"
      ],
      "metadata": {
        "id": "Gvw5S_Qd5xfX"
      },
      "execution_count": 30,
      "outputs": []
    },
    {
      "cell_type": "markdown",
      "source": [
        "#Convert a binary string to hexadecimal.\n",
        "\n",
        "for simplicity i am converting binary string into hexadecimal value"
      ],
      "metadata": {
        "id": "iXypmXTC54KI"
      }
    },
    {
      "cell_type": "code",
      "source": [
        "def binary_to_hex(binary_code):\n",
        "\n",
        "    decimal_value = int(binary_code, 2)\n",
        "    return hex(decimal_value)"
      ],
      "metadata": {
        "id": "2BTwjBOM57OY"
      },
      "execution_count": 31,
      "outputs": []
    },
    {
      "cell_type": "markdown",
      "source": [
        "#mathematical approch"
      ],
      "metadata": {
        "id": "uJXxXste8Kle"
      }
    },
    {
      "cell_type": "markdown",
      "source": [
        "so after converting into hexadecimal we get for each img one hexadecimal number.\n",
        "\n",
        "to predict number we need calculate P(1/I) and P(0/I) and compare both.\n",
        "\n",
        "if P(1/I) > P(0/I) then the image is 1.\n",
        "\n",
        "if P(1/I) < P(0/I) then the image is 0.\n",
        "\n",
        "so we will take random img then find hexadecimal code and check that code in both 0s and 1s codes  and find P(1/I) , P(0/I) and predict number.\n"
      ],
      "metadata": {
        "id": "EqqACVV08OBQ"
      }
    },
    {
      "cell_type": "markdown",
      "source": [
        "#Compute the frequency of hexadecimal codes for images labeled as 0 and 1.\n",
        "\n",
        "here we are calculating counts of each hexadecimal in 0s and 1s"
      ],
      "metadata": {
        "id": "boWUNYE66CKR"
      }
    },
    {
      "cell_type": "code",
      "source": [
        "def compute_hex_code_counts(image_folder, threshold=250):\n",
        "\n",
        "    hex_code_counts_0 = {}\n",
        "    hex_code_counts_1 = {}\n",
        "\n",
        "    for img_name in os.listdir(image_folder):\n",
        "        img_path = os.path.join(image_folder, img_name)\n",
        "\n",
        "        # Read and process the image\n",
        "        img = cv2.imread(img_path, cv2.IMREAD_GRAYSCALE)\n",
        "        binary_code = get_binary_code(img, threshold)\n",
        "        hex_code = binary_to_hex(binary_code)\n",
        "\n",
        "        # Extract the true label\n",
        "        if 'digit_0' in img_name:\n",
        "            hex_code_counts_0[hex_code] = hex_code_counts_0.get(hex_code, 0) + 1\n",
        "        elif 'digit_1' in img_name:\n",
        "            hex_code_counts_1[hex_code] = hex_code_counts_1.get(hex_code, 0) + 1\n",
        "\n",
        "    return hex_code_counts_0, hex_code_counts_1"
      ],
      "metadata": {
        "id": "5gcoohT36Hdq"
      },
      "execution_count": 33,
      "outputs": []
    },
    {
      "cell_type": "markdown",
      "source": [
        "#Predict the label of a test image based on hexadecimal code frequencies.\n",
        "finding  counts within a  (± range) and choosing  the one with more counts.\n",
        "\n",
        "in this function we will find binary code of trst img\n",
        "\n",
        "then find count of that hex in 0s and 1s\n",
        "\n",
        "we will check in range :± range\n",
        "\n",
        "then comare the counts and five prediction\n",
        "\n",
        "if both counts are same default prediction is 1"
      ],
      "metadata": {
        "id": "9tyueosI6IGg"
      }
    },
    {
      "cell_type": "code",
      "source": [
        "def predict_image(test_image_path, hex_code_counts_0, hex_code_counts_1, threshold=250,range_=2):\n",
        "\n",
        "    test_image = cv2.imread(test_image_path, cv2.IMREAD_GRAYSCALE)\n",
        "    binary_code = get_binary_code(test_image, threshold)\n",
        "    test_hex_code = binary_to_hex(binary_code)\n",
        "\n",
        "    # counts for 0 and 1\n",
        "    count_0 = hex_code_counts_0.get(test_hex_code, 0)\n",
        "    count_1 = hex_code_counts_1.get(test_hex_code, 0)\n",
        "\n",
        "    # Print counts\n",
        "    print(f\"Hex code: {test_hex_code}, Count for 0: {count_0}, Count for 1: {count_1}\")\n",
        "\n",
        "\n",
        "    count_0_in_range = count_0 + range_\n",
        "    count_1_in_range = count_1 + range_\n",
        "\n",
        "    # Compare the counts within the range and predict.\n",
        "    if count_0_in_range > count_1_in_range:\n",
        "        return 0\n",
        "    elif count_1_in_range > count_0_in_range:\n",
        "        return 1\n",
        "    else:\n",
        "        return 1"
      ],
      "metadata": {
        "id": "MTsDpxnG6PXo"
      },
      "execution_count": 35,
      "outputs": []
    },
    {
      "cell_type": "code",
      "source": [
        "#example on 1 img\n",
        "\n",
        "compute_hex_code_counts(path1, threshold=250)\n",
        "predict_image('/content/drive/MyDrive/dataset 0s and 1s/test1 original1s/digit_1(256).png', hex_code_counts_0, hex_code_counts_1, threshold=250,range_=2)\n",
        "\n",
        "#here we get 1 as answer and count of 0 and 1."
      ],
      "metadata": {
        "colab": {
          "base_uri": "https://localhost:8080/"
        },
        "id": "OH-Xrq3198k_",
        "outputId": "907647d5-430f-4c4d-e89e-6cd79de6f626"
      },
      "execution_count": 37,
      "outputs": [
        {
          "output_type": "stream",
          "name": "stdout",
          "text": [
            "Hex code: 0x90, Count for 0: 4, Count for 1: 57\n"
          ]
        },
        {
          "output_type": "execute_result",
          "data": {
            "text/plain": [
              "1"
            ]
          },
          "metadata": {},
          "execution_count": 37
        }
      ]
    },
    {
      "cell_type": "markdown",
      "source": [
        "#Predict labels for all images in the test folder and calculate accuracy.\n",
        "\n",
        "creating function to get prediction from folder and accuracy for easy calculations"
      ],
      "metadata": {
        "id": "b1oc0wb76TlI"
      }
    },
    {
      "cell_type": "code",
      "source": [
        "def predict_images_in_folder(test_folder, hex_code_counts_0, hex_code_counts_1, threshold=250, range_=5):\n",
        "\n",
        "    predictions = {}\n",
        "    correct_predictions = 0\n",
        "    total_images = 0\n",
        "\n",
        "    for img_name in os.listdir(test_folder):\n",
        "        img_path = os.path.join(test_folder, img_name)\n",
        "\n",
        "        # Extract the true label\n",
        "        if 'digit_0' in img_name:\n",
        "            true_label = 0\n",
        "        elif 'digit_1' in img_name:\n",
        "            true_label = 1\n",
        "        else:\n",
        "            continue\n",
        "\n",
        "        # Predict the label\n",
        "        predicted_label = predict_image(img_path, hex_code_counts_0, hex_code_counts_1, threshold, range_ =5)\n",
        "        predictions[img_name] = predicted_label\n",
        "\n",
        "\n",
        "        if predicted_label == true_label:\n",
        "            correct_predictions += 1\n",
        "\n",
        "        total_images += 1\n",
        "\n",
        "    # Calculate accuracy\n",
        "    accuracy = correct_predictions / total_images if total_images > 0 else 0\n",
        "    return predictions, accuracy"
      ],
      "metadata": {
        "id": "-Zz9BDPB6YwX"
      },
      "execution_count": 39,
      "outputs": []
    },
    {
      "cell_type": "markdown",
      "source": [
        "# Predict labels for test images and calculate accuracy\n",
        "\n",
        "here  in test folder i gave approx 100 imgs and got 83.33\n",
        "% accuracy"
      ],
      "metadata": {
        "id": "6qf1PjWC6d_A"
      }
    },
    {
      "cell_type": "code",
      "source": [
        "# Compute hexadecimal code counts for the train images\n",
        "\n",
        "hex_code_counts_0, hex_code_counts_1 = compute_hex_code_counts(path1)"
      ],
      "metadata": {
        "id": "ZQtEhRDn-5RO"
      },
      "execution_count": 40,
      "outputs": []
    },
    {
      "cell_type": "code",
      "source": [
        "\n",
        "# Predict labels for test images and calculate accuracy\n",
        "predictions, accuracy = predict_images_in_folder('/content/drive/MyDrive/dataset 0s and 1s/test original mix', hex_code_counts_0, hex_code_counts_1, range_=5)\n",
        "\n",
        "# Print predictions and accuracy\n",
        "for img_name, prediction in predictions.items():\n",
        "    print(f\"Image: {img_name}, Predicted digit: {prediction}\")\n",
        "print(f\"Accuracy: {accuracy * 100:.2f}%\")\n",
        "\n",
        "\n",
        "#here  in test folder i gave 100 imgs and got 83% accuracy\n"
      ],
      "metadata": {
        "colab": {
          "base_uri": "https://localhost:8080/"
        },
        "id": "6F53VfyV8SYh",
        "outputId": "e8f3abb6-5db1-47da-8a69-19457db0141a"
      },
      "execution_count": 42,
      "outputs": [
        {
          "output_type": "stream",
          "name": "stdout",
          "text": [
            "Hex code: 0x82, Count for 0: 11, Count for 1: 4\n",
            "Hex code: 0x80, Count for 0: 56, Count for 1: 43\n",
            "Hex code: 0x48, Count for 0: 5, Count for 1: 2\n",
            "Hex code: 0x22, Count for 0: 11, Count for 1: 0\n",
            "Hex code: 0xaa, Count for 0: 6, Count for 1: 0\n",
            "Hex code: 0x29, Count for 0: 1, Count for 1: 0\n",
            "Hex code: 0x2, Count for 0: 41, Count for 1: 23\n",
            "Hex code: 0x0, Count for 0: 98, Count for 1: 142\n",
            "Hex code: 0x90, Count for 0: 4, Count for 1: 57\n",
            "Hex code: 0x49, Count for 0: 0, Count for 1: 3\n",
            "Hex code: 0x102, Count for 0: 1, Count for 1: 1\n",
            "Hex code: 0x80, Count for 0: 56, Count for 1: 43\n",
            "Hex code: 0xa2, Count for 0: 15, Count for 1: 1\n",
            "Hex code: 0xa2, Count for 0: 15, Count for 1: 1\n",
            "Hex code: 0x22, Count for 0: 11, Count for 1: 0\n",
            "Hex code: 0x82, Count for 0: 11, Count for 1: 4\n",
            "Hex code: 0x22, Count for 0: 11, Count for 1: 0\n",
            "Hex code: 0x2e, Count for 0: 1, Count for 1: 0\n",
            "Hex code: 0x0, Count for 0: 98, Count for 1: 142\n",
            "Hex code: 0x0, Count for 0: 98, Count for 1: 142\n",
            "Hex code: 0x12, Count for 0: 0, Count for 1: 30\n",
            "Hex code: 0x92, Count for 0: 0, Count for 1: 27\n",
            "Hex code: 0x10, Count for 0: 3, Count for 1: 51\n",
            "Hex code: 0x0, Count for 0: 98, Count for 1: 142\n",
            "Hex code: 0x2, Count for 0: 41, Count for 1: 23\n",
            "Hex code: 0x4, Count for 0: 1, Count for 1: 3\n",
            "Hex code: 0x10, Count for 0: 3, Count for 1: 51\n",
            "Hex code: 0x0, Count for 0: 98, Count for 1: 142\n",
            "Hex code: 0x0, Count for 0: 98, Count for 1: 142\n",
            "Hex code: 0x0, Count for 0: 98, Count for 1: 142\n",
            "Hex code: 0x0, Count for 0: 98, Count for 1: 142\n",
            "Hex code: 0x90, Count for 0: 4, Count for 1: 57\n",
            "Hex code: 0x0, Count for 0: 98, Count for 1: 142\n",
            "Hex code: 0x12, Count for 0: 0, Count for 1: 30\n",
            "Hex code: 0x92, Count for 0: 0, Count for 1: 27\n",
            "Hex code: 0x0, Count for 0: 98, Count for 1: 142\n",
            "Hex code: 0x0, Count for 0: 98, Count for 1: 142\n",
            "Hex code: 0x0, Count for 0: 98, Count for 1: 142\n",
            "Hex code: 0x0, Count for 0: 98, Count for 1: 142\n",
            "Hex code: 0x0, Count for 0: 98, Count for 1: 142\n",
            "Hex code: 0x10, Count for 0: 3, Count for 1: 51\n",
            "Hex code: 0x92, Count for 0: 0, Count for 1: 27\n",
            "Hex code: 0x10, Count for 0: 3, Count for 1: 51\n",
            "Hex code: 0x82, Count for 0: 11, Count for 1: 4\n",
            "Hex code: 0x83, Count for 0: 2, Count for 1: 3\n",
            "Hex code: 0x0, Count for 0: 98, Count for 1: 142\n",
            "Hex code: 0x80, Count for 0: 56, Count for 1: 43\n",
            "Hex code: 0x80, Count for 0: 56, Count for 1: 43\n",
            "Hex code: 0x82, Count for 0: 11, Count for 1: 4\n",
            "Hex code: 0x0, Count for 0: 98, Count for 1: 142\n",
            "Hex code: 0x12, Count for 0: 0, Count for 1: 30\n",
            "Hex code: 0x3, Count for 0: 1, Count for 1: 4\n",
            "Hex code: 0x92, Count for 0: 0, Count for 1: 27\n",
            "Hex code: 0x90, Count for 0: 4, Count for 1: 57\n",
            "Hex code: 0x0, Count for 0: 98, Count for 1: 142\n",
            "Hex code: 0x90, Count for 0: 4, Count for 1: 57\n",
            "Hex code: 0x0, Count for 0: 98, Count for 1: 142\n",
            "Hex code: 0x90, Count for 0: 4, Count for 1: 57\n",
            "Hex code: 0x0, Count for 0: 98, Count for 1: 142\n",
            "Hex code: 0x0, Count for 0: 98, Count for 1: 142\n",
            "Hex code: 0x80, Count for 0: 56, Count for 1: 43\n",
            "Hex code: 0x24, Count for 0: 6, Count for 1: 1\n",
            "Hex code: 0x80, Count for 0: 56, Count for 1: 43\n",
            "Hex code: 0x20, Count for 0: 31, Count for 1: 3\n",
            "Hex code: 0x80, Count for 0: 56, Count for 1: 43\n",
            "Hex code: 0x20, Count for 0: 31, Count for 1: 3\n",
            "Hex code: 0x82, Count for 0: 11, Count for 1: 4\n",
            "Hex code: 0x2, Count for 0: 41, Count for 1: 23\n",
            "Hex code: 0x0, Count for 0: 98, Count for 1: 142\n",
            "Hex code: 0x20, Count for 0: 31, Count for 1: 3\n",
            "Hex code: 0x0, Count for 0: 98, Count for 1: 142\n",
            "Hex code: 0x0, Count for 0: 98, Count for 1: 142\n",
            "Hex code: 0x20, Count for 0: 31, Count for 1: 3\n",
            "Hex code: 0x0, Count for 0: 98, Count for 1: 142\n",
            "Hex code: 0xaa, Count for 0: 6, Count for 1: 0\n",
            "Hex code: 0x80, Count for 0: 56, Count for 1: 43\n",
            "Hex code: 0xb, Count for 0: 1, Count for 1: 1\n",
            "Hex code: 0x2, Count for 0: 41, Count for 1: 23\n",
            "Hex code: 0x80, Count for 0: 56, Count for 1: 43\n",
            "Hex code: 0x80, Count for 0: 56, Count for 1: 43\n",
            "Hex code: 0xa0, Count for 0: 12, Count for 1: 0\n",
            "Hex code: 0x84, Count for 0: 4, Count for 1: 2\n",
            "Hex code: 0xa4, Count for 0: 1, Count for 1: 0\n",
            "Hex code: 0x0, Count for 0: 98, Count for 1: 142\n",
            "Image: Copy of digit_0(445).png, Predicted digit: 0\n",
            "Image: Copy of digit_0(446).png, Predicted digit: 0\n",
            "Image: Copy of digit_0(442).png, Predicted digit: 0\n",
            "Image: Copy of digit_0(447).png, Predicted digit: 0\n",
            "Image: Copy of digit_0(451).png, Predicted digit: 0\n",
            "Image: Copy of digit_0(444).png, Predicted digit: 0\n",
            "Image: Copy of digit_0(443).png, Predicted digit: 0\n",
            "Image: Copy of digit_1(454).png, Predicted digit: 1\n",
            "Image: Copy of digit_1(452).png, Predicted digit: 1\n",
            "Image: Copy of digit_1(457).png, Predicted digit: 1\n",
            "Image: Copy of digit_1(455).png, Predicted digit: 1\n",
            "Image: Copy of digit_1(456).png, Predicted digit: 0\n",
            "Image: Copy of digit_1(453).png, Predicted digit: 0\n",
            "Image: Copy of digit_0(436).png, Predicted digit: 0\n",
            "Image: Copy of digit_0(434).png, Predicted digit: 0\n",
            "Image: Copy of digit_0(437).png, Predicted digit: 0\n",
            "Image: Copy of digit_0(435).png, Predicted digit: 0\n",
            "Image: Copy of digit_0(438).png, Predicted digit: 0\n",
            "Image: Copy of digit_1(424) (1).png, Predicted digit: 1\n",
            "Image: Copy of digit_1(427) (1).png, Predicted digit: 1\n",
            "Image: Copy of digit_1(428) (1).png, Predicted digit: 1\n",
            "Image: Copy of digit_1(426) (1).png, Predicted digit: 1\n",
            "Image: Copy of digit_1(423) (1).png, Predicted digit: 1\n",
            "Image: Copy of digit_1(425) (1).png, Predicted digit: 1\n",
            "Image: Copy of digit_1(367).png, Predicted digit: 0\n",
            "Image: Copy of digit_1(361).png, Predicted digit: 1\n",
            "Image: Copy of digit_1(362).png, Predicted digit: 1\n",
            "Image: Copy of digit_1(366).png, Predicted digit: 1\n",
            "Image: Copy of digit_1(363).png, Predicted digit: 1\n",
            "Image: Copy of digit_1(360).png, Predicted digit: 1\n",
            "Image: Copy of digit_1(364).png, Predicted digit: 1\n",
            "Image: Copy of digit_1(368).png, Predicted digit: 1\n",
            "Image: Copy of digit_1(427).png, Predicted digit: 1\n",
            "Image: Copy of digit_1(428).png, Predicted digit: 1\n",
            "Image: Copy of digit_1(430).png, Predicted digit: 1\n",
            "Image: Copy of digit_1(425).png, Predicted digit: 1\n",
            "Image: Copy of digit_1(429).png, Predicted digit: 1\n",
            "Image: Copy of digit_1(424).png, Predicted digit: 1\n",
            "Image: Copy of digit_1(431).png, Predicted digit: 1\n",
            "Image: Copy of digit_1(432).png, Predicted digit: 1\n",
            "Image: Copy of digit_1(433).png, Predicted digit: 1\n",
            "Image: Copy of digit_1(426).png, Predicted digit: 1\n",
            "Image: Copy of digit_1(423).png, Predicted digit: 1\n",
            "Image: Copy of digit_1(414).png, Predicted digit: 0\n",
            "Image: Copy of digit_1(415).png, Predicted digit: 1\n",
            "Image: Copy of digit_1(422).png, Predicted digit: 1\n",
            "Image: Copy of digit_1(418).png, Predicted digit: 0\n",
            "Image: Copy of digit_1(420).png, Predicted digit: 0\n",
            "Image: Copy of digit_1(421).png, Predicted digit: 0\n",
            "Image: Copy of digit_1(416).png, Predicted digit: 1\n",
            "Image: Copy of digit_1(419).png, Predicted digit: 1\n",
            "Image: Copy of digit_1(417).png, Predicted digit: 1\n",
            "Image: Copy of digit_1(412).png, Predicted digit: 1\n",
            "Image: Copy of digit_1(407).png, Predicted digit: 1\n",
            "Image: Copy of digit_1(408).png, Predicted digit: 1\n",
            "Image: Copy of digit_1(411).png, Predicted digit: 1\n",
            "Image: Copy of digit_1(309).png, Predicted digit: 1\n",
            "Image: Copy of digit_1(410).png, Predicted digit: 1\n",
            "Image: Copy of digit_1(413).png, Predicted digit: 1\n",
            "Image: Copy of digit_1(406).png, Predicted digit: 1\n",
            "Image: Copy of digit_1(409).png, Predicted digit: 0\n",
            "Image: Copy of digit_0(254).png, Predicted digit: 0\n",
            "Image: Copy of digit_0(257).png, Predicted digit: 0\n",
            "Image: Copy of digit_0(256).png, Predicted digit: 0\n",
            "Image: Copy of digit_0(260).png, Predicted digit: 0\n",
            "Image: Copy of digit_0(253).png, Predicted digit: 0\n",
            "Image: Copy of digit_0(259).png, Predicted digit: 0\n",
            "Image: Copy of digit_0(255).png, Predicted digit: 0\n",
            "Image: Copy of digit_0(252).png, Predicted digit: 1\n",
            "Image: Copy of digit_0(258).png, Predicted digit: 0\n",
            "Image: Copy of digit_0(262).png, Predicted digit: 1\n",
            "Image: Copy of digit_0(261).png, Predicted digit: 1\n",
            "Image: Copy of digit_0(265).png, Predicted digit: 0\n",
            "Image: Copy of digit_0(264).png, Predicted digit: 1\n",
            "Image: Copy of digit_0(272).png, Predicted digit: 0\n",
            "Image: Copy of digit_0(266).png, Predicted digit: 0\n",
            "Image: Copy of digit_0(263).png, Predicted digit: 1\n",
            "Image: Copy of digit_0(273).png, Predicted digit: 0\n",
            "Image: Copy of digit_0(270).png, Predicted digit: 0\n",
            "Image: Copy of digit_0(268).png, Predicted digit: 0\n",
            "Image: Copy of digit_0(267).png, Predicted digit: 0\n",
            "Image: Copy of digit_0(269).png, Predicted digit: 0\n",
            "Image: Copy of digit_0(271).png, Predicted digit: 0\n",
            "Image: Copy of digit_0(274).png, Predicted digit: 1\n",
            "Accuracy: 83.33%\n"
          ]
        }
      ]
    }
  ]
}